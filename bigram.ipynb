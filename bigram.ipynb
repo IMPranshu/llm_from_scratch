{
 "cells": [
  {
   "cell_type": "code",
   "execution_count": 6,
   "metadata": {},
   "outputs": [
    {
     "name": "stdout",
     "output_type": "stream",
     "text": [
      "The Wonderful Wizard of Oz\n",
      "\n",
      "by L. Frank Baum\n",
      "\n",
      "\n",
      "This book is dedicated to my good friend & comrade\n",
      "My Wife\n",
      "L.F.B.\n",
      "\n",
      "\n",
      "Contents\n",
      "\n",
      " Introduction\n",
      " Chapter I. The Cyclone\n",
      " Chapter II. The Council with the Mu\n"
     ]
    }
   ],
   "source": [
    "with open('wizard_of_oz.txt', 'r', encoding='utf-8') as f:\n",
    "    text = f.read()\n",
    "chars = sorted(set(text))\n",
    "print(chars)"
   ]
  }
 ],
 "metadata": {
  "kernelspec": {
   "display_name": "cuda",
   "language": "python",
   "name": "python3"
  },
  "language_info": {
   "codemirror_mode": {
    "name": "ipython",
    "version": 3
   },
   "file_extension": ".py",
   "mimetype": "text/x-python",
   "name": "python",
   "nbconvert_exporter": "python",
   "pygments_lexer": "ipython3",
   "version": "3.11.2"
  }
 },
 "nbformat": 4,
 "nbformat_minor": 5
}
